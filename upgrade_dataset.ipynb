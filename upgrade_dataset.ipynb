{
 "cells": [
  {
   "cell_type": "code",
   "execution_count": 1,
   "metadata": {},
   "outputs": [],
   "source": [
    "import pandas as pd\n",
    "from deep_translator import GoogleTranslator"
   ]
  },
  {
   "cell_type": "markdown",
   "metadata": {},
   "source": [
    "Переведем дефолтный датасет на английский, а потом на русский. Соединим полученный и исхожный датасеты. Потом сделаем тоже самое только уже с немецким языком."
   ]
  },
  {
   "cell_type": "code",
   "execution_count": 13,
   "metadata": {},
   "outputs": [],
   "source": [
    "def back_translate(text, src_lang='ru', tgt_lang='en'):\n",
    "        translated = GoogleTranslator(source=src_lang, target=tgt_lang).translate(text)\n",
    "        back_translated = GoogleTranslator(source=tgt_lang, target=src_lang).translate(translated)\n",
    "        return back_translated\n",
    "\n",
    "def augment_text(row, src_lang, tgt_lang):\n",
    "    return {\n",
    "        'question': back_translate(row['question'], src_lang=src_lang, tgt_lang=tgt_lang),\n",
    "        'answer': back_translate(row['answer'], src_lang=src_lang, tgt_lang=tgt_lang)\n",
    "    }\n"
   ]
  },
  {
   "cell_type": "code",
   "execution_count": 15,
   "metadata": {},
   "outputs": [],
   "source": [
    "def retranslate_text(src_path, dst_path, src_lang='ru', tgt_lang='en'):\n",
    "    df = pd.read_csv(src_path)\n",
    "    \n",
    "    augmented_data = []\n",
    "\n",
    "    for _, row in df.iterrows():\n",
    "        augmented_row = augment_text(row)  \n",
    "        augmented_data.append(augmented_row)  \n",
    "\n",
    "    augmented_df = pd.DataFrame(augmented_data)\n",
    "\n",
    "    df = pd.concat([df, augmented_df], ignore_index=True)\n",
    "\n",
    "    df.to_csv(dst_path, index=False, quotechar='\"', quoting=1)"
   ]
  },
  {
   "cell_type": "code",
   "execution_count": null,
   "metadata": {},
   "outputs": [],
   "source": [
    "retranslate_text(r'C:\\Users\\Ilya K\\Desktop\\chat_bot_vision\\dataset.csv', r'C:\\Users\\Ilya K\\Desktop\\chat_bot_vision\\new_dataset.csv')"
   ]
  },
  {
   "cell_type": "code",
   "execution_count": 16,
   "metadata": {},
   "outputs": [],
   "source": [
    "retranslate_text(\n",
    "    r'C:\\Users\\Ilya K\\Desktop\\chat_bot_vision\\new_dataset.csv',\n",
    "    r'C:\\Users\\Ilya K\\Desktop\\chat_bot_vision\\new_dataset1.csv',\n",
    "    src_lang='ru', \n",
    "    tgt_lang='german'\n",
    ")"
   ]
  },
  {
   "cell_type": "markdown",
   "metadata": {},
   "source": [
    "Переведем все вопросы к нижнему регистру, так как модель чувствительна к нему"
   ]
  },
  {
   "cell_type": "code",
   "execution_count": 2,
   "metadata": {},
   "outputs": [],
   "source": [
    "df = pd.read_csv(r'C:\\Users\\Ilya K\\Desktop\\chat_bot_vision\\new_dataset1.csv', encoding='utf-8')"
   ]
  },
  {
   "cell_type": "code",
   "execution_count": 3,
   "metadata": {},
   "outputs": [],
   "source": [
    "df['question'] = df['question'].str.lower()"
   ]
  },
  {
   "cell_type": "code",
   "execution_count": 8,
   "metadata": {},
   "outputs": [],
   "source": [
    "df.to_csv(r'C:\\Users\\Ilya K\\Desktop\\chat_bot_vision\\new_dataset1.csv', index=False, quotechar='\"', quoting=1)"
   ]
  }
 ],
 "metadata": {
  "kernelspec": {
   "display_name": "Python 3 (ipykernel)",
   "language": "python",
   "name": "python3"
  },
  "language_info": {
   "codemirror_mode": {
    "name": "ipython",
    "version": 3
   },
   "file_extension": ".py",
   "mimetype": "text/x-python",
   "name": "python",
   "nbconvert_exporter": "python",
   "pygments_lexer": "ipython3",
   "version": "3.12.6"
  }
 },
 "nbformat": 4,
 "nbformat_minor": 2
}
