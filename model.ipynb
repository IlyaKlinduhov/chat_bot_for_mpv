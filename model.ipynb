{
 "cells": [
  {
   "cell_type": "code",
   "execution_count": 1,
   "metadata": {},
   "outputs": [
    {
     "name": "stderr",
     "output_type": "stream",
     "text": [
      "C:\\Users\\Ilya K\\AppData\\Local\\Programs\\Python\\Python312\\Lib\\site-packages\\tqdm\\auto.py:21: TqdmWarning: IProgress not found. Please update jupyter and ipywidgets. See https://ipywidgets.readthedocs.io/en/stable/user_install.html\n",
      "  from .autonotebook import tqdm as notebook_tqdm\n"
     ]
    }
   ],
   "source": [
    "from transformers import AutoTokenizer, AutoModelForCausalLM\n",
    "\n",
    "tokenizer = AutoTokenizer.from_pretrained(\"ai-forever/rugpt3small_based_on_gpt2\")\n",
    "model = AutoModelForCausalLM.from_pretrained(\"ai-forever/rugpt3small_based_on_gpt2\")\n"
   ]
  },
  {
   "cell_type": "code",
   "execution_count": 2,
   "metadata": {},
   "outputs": [
    {
     "data": {
      "text/plain": [
       "('C:\\\\Users\\\\Ilya K\\\\Desktop\\\\chat_bot_vision\\\\pretrained_model\\\\tokenizer_config.json',\n",
       " 'C:\\\\Users\\\\Ilya K\\\\Desktop\\\\chat_bot_vision\\\\pretrained_model\\\\special_tokens_map.json',\n",
       " 'C:\\\\Users\\\\Ilya K\\\\Desktop\\\\chat_bot_vision\\\\pretrained_model\\\\vocab.json',\n",
       " 'C:\\\\Users\\\\Ilya K\\\\Desktop\\\\chat_bot_vision\\\\pretrained_model\\\\merges.txt',\n",
       " 'C:\\\\Users\\\\Ilya K\\\\Desktop\\\\chat_bot_vision\\\\pretrained_model\\\\added_tokens.json',\n",
       " 'C:\\\\Users\\\\Ilya K\\\\Desktop\\\\chat_bot_vision\\\\pretrained_model\\\\tokenizer.json')"
      ]
     },
     "execution_count": 2,
     "metadata": {},
     "output_type": "execute_result"
    }
   ],
   "source": [
    "pretrained_model_path = r\"C:\\Users\\Ilya K\\Desktop\\chat_bot_vision\\pretrained_model\"\n",
    "model.save_pretrained(pretrained_model_path)\n",
    "tokenizer.save_pretrained(pretrained_model_path)"
   ]
  },
  {
   "cell_type": "code",
   "execution_count": 2,
   "metadata": {},
   "outputs": [
    {
     "name": "stdout",
     "output_type": "stream",
     "text": [
      "WARNING:tensorflow:From C:\\Users\\Ilya K\\AppData\\Local\\Programs\\Python\\Python312\\Lib\\site-packages\\tf_keras\\src\\losses.py:2976: The name tf.losses.sparse_softmax_cross_entropy is deprecated. Please use tf.compat.v1.losses.sparse_softmax_cross_entropy instead.\n",
      "\n"
     ]
    }
   ],
   "source": [
    "from transformers import Trainer, TrainingArguments\n",
    "from datasets import Dataset\n",
    "import pandas as pd"
   ]
  },
  {
   "cell_type": "code",
   "execution_count": 3,
   "metadata": {},
   "outputs": [
    {
     "data": {
      "text/html": [
       "<div>\n",
       "<style scoped>\n",
       "    .dataframe tbody tr th:only-of-type {\n",
       "        vertical-align: middle;\n",
       "    }\n",
       "\n",
       "    .dataframe tbody tr th {\n",
       "        vertical-align: top;\n",
       "    }\n",
       "\n",
       "    .dataframe thead th {\n",
       "        text-align: right;\n",
       "    }\n",
       "</style>\n",
       "<table border=\"1\" class=\"dataframe\">\n",
       "  <thead>\n",
       "    <tr style=\"text-align: right;\">\n",
       "      <th></th>\n",
       "      <th>question</th>\n",
       "      <th>answer</th>\n",
       "    </tr>\n",
       "  </thead>\n",
       "  <tbody>\n",
       "    <tr>\n",
       "      <th>0</th>\n",
       "      <td>Кто является целевой аудиторией вашего сервиса?</td>\n",
       "      <td>Целевой аудиторией нашего сервиса являются сел...</td>\n",
       "    </tr>\n",
       "    <tr>\n",
       "      <th>1</th>\n",
       "      <td>Какие основные функции предоставляет ваш сервис?</td>\n",
       "      <td>Основными функциями сервиса является просмотр ...</td>\n",
       "    </tr>\n",
       "    <tr>\n",
       "      <th>2</th>\n",
       "      <td>Какие задачи решает ваш сервис?</td>\n",
       "      <td>Сервис решает задачи грамотного отображения ст...</td>\n",
       "    </tr>\n",
       "    <tr>\n",
       "      <th>3</th>\n",
       "      <td>Какие могут быть ограничения у вашего сервиса?</td>\n",
       "      <td>Доступ к сервису платный и осуществляется поср...</td>\n",
       "    </tr>\n",
       "    <tr>\n",
       "      <th>4</th>\n",
       "      <td>Как быстро сервис заполняет данные после регис...</td>\n",
       "      <td>После регистрации пользователя данные за после...</td>\n",
       "    </tr>\n",
       "    <tr>\n",
       "      <th>5</th>\n",
       "      <td>Как обеспечивается конфиденциальность данных в...</td>\n",
       "      <td>Данные хранятся на закрытой локальной базе дан...</td>\n",
       "    </tr>\n",
       "    <tr>\n",
       "      <th>6</th>\n",
       "      <td>Можно ли обновлять данные вручную?</td>\n",
       "      <td>Да, у сервиса есть возможность принудительного...</td>\n",
       "    </tr>\n",
       "    <tr>\n",
       "      <th>7</th>\n",
       "      <td>Какие метрики отображаются на дашборде 'Остатк...</td>\n",
       "      <td>На дашборде отображаются остатки товаров, обор...</td>\n",
       "    </tr>\n",
       "    <tr>\n",
       "      <th>8</th>\n",
       "      <td>Как рассчитывается оборачиваемость товаров?</td>\n",
       "      <td>Оборачиваемость рассчитывается как отношение к...</td>\n",
       "    </tr>\n",
       "    <tr>\n",
       "      <th>9</th>\n",
       "      <td>Какие визуализации используются на дашборде 'О...</td>\n",
       "      <td>На дашборде используются тепловая карта остатк...</td>\n",
       "    </tr>\n",
       "  </tbody>\n",
       "</table>\n",
       "</div>"
      ],
      "text/plain": [
       "                                            question  \\\n",
       "0    Кто является целевой аудиторией вашего сервиса?   \n",
       "1   Какие основные функции предоставляет ваш сервис?   \n",
       "2                    Какие задачи решает ваш сервис?   \n",
       "3     Какие могут быть ограничения у вашего сервиса?   \n",
       "4  Как быстро сервис заполняет данные после регис...   \n",
       "5  Как обеспечивается конфиденциальность данных в...   \n",
       "6                 Можно ли обновлять данные вручную?   \n",
       "7  Какие метрики отображаются на дашборде 'Остатк...   \n",
       "8        Как рассчитывается оборачиваемость товаров?   \n",
       "9  Какие визуализации используются на дашборде 'О...   \n",
       "\n",
       "                                              answer  \n",
       "0  Целевой аудиторией нашего сервиса являются сел...  \n",
       "1  Основными функциями сервиса является просмотр ...  \n",
       "2  Сервис решает задачи грамотного отображения ст...  \n",
       "3  Доступ к сервису платный и осуществляется поср...  \n",
       "4  После регистрации пользователя данные за после...  \n",
       "5  Данные хранятся на закрытой локальной базе дан...  \n",
       "6  Да, у сервиса есть возможность принудительного...  \n",
       "7  На дашборде отображаются остатки товаров, обор...  \n",
       "8  Оборачиваемость рассчитывается как отношение к...  \n",
       "9  На дашборде используются тепловая карта остатк...  "
      ]
     },
     "execution_count": 3,
     "metadata": {},
     "output_type": "execute_result"
    }
   ],
   "source": [
    "df = pd.read_csv(r'C:\\Users\\Ilya K\\Desktop\\chat_bot_vision\\new_dataset1.csv', encoding='utf-8')\n",
    "df.head(10)"
   ]
  },
  {
   "cell_type": "code",
   "execution_count": 4,
   "metadata": {},
   "outputs": [],
   "source": [
    "df['text'] = df['question'] + \" \" + df['answer']\n",
    "train_dataset = Dataset.from_pandas(df[['text']])"
   ]
  },
  {
   "cell_type": "code",
   "execution_count": 6,
   "metadata": {},
   "outputs": [
    {
     "name": "stderr",
     "output_type": "stream",
     "text": [
      "Map: 100%|██████████████████████████████████████████████████████████████████| 712/712 [00:00<00:00, 3818.23 examples/s]\n"
     ]
    },
    {
     "data": {
      "text/html": [
       "\n",
       "    <div>\n",
       "      \n",
       "      <progress value='356' max='356' style='width:300px; height:20px; vertical-align: middle;'></progress>\n",
       "      [356/356 1:13:33, Epoch 2/2]\n",
       "    </div>\n",
       "    <table border=\"1\" class=\"dataframe\">\n",
       "  <thead>\n",
       " <tr style=\"text-align: left;\">\n",
       "      <th>Step</th>\n",
       "      <th>Training Loss</th>\n",
       "    </tr>\n",
       "  </thead>\n",
       "  <tbody>\n",
       "    <tr>\n",
       "      <td>100</td>\n",
       "      <td>0.667400</td>\n",
       "    </tr>\n",
       "    <tr>\n",
       "      <td>200</td>\n",
       "      <td>0.061200</td>\n",
       "    </tr>\n",
       "    <tr>\n",
       "      <td>300</td>\n",
       "      <td>0.041700</td>\n",
       "    </tr>\n",
       "  </tbody>\n",
       "</table><p>"
      ],
      "text/plain": [
       "<IPython.core.display.HTML object>"
      ]
     },
     "metadata": {},
     "output_type": "display_data"
    },
    {
     "data": {
      "text/plain": [
       "('C:\\\\Users\\\\Ilya K\\\\Desktop\\\\chat_bot_vision\\\\finetuned_model\\\\tokenizer_config.json',\n",
       " 'C:\\\\Users\\\\Ilya K\\\\Desktop\\\\chat_bot_vision\\\\finetuned_model\\\\special_tokens_map.json',\n",
       " 'C:\\\\Users\\\\Ilya K\\\\Desktop\\\\chat_bot_vision\\\\finetuned_model\\\\vocab.json',\n",
       " 'C:\\\\Users\\\\Ilya K\\\\Desktop\\\\chat_bot_vision\\\\finetuned_model\\\\merges.txt',\n",
       " 'C:\\\\Users\\\\Ilya K\\\\Desktop\\\\chat_bot_vision\\\\finetuned_model\\\\added_tokens.json',\n",
       " 'C:\\\\Users\\\\Ilya K\\\\Desktop\\\\chat_bot_vision\\\\finetuned_model\\\\tokenizer.json')"
      ]
     },
     "execution_count": 6,
     "metadata": {},
     "output_type": "execute_result"
    }
   ],
   "source": [
    "def tokenize_function(examples):\n",
    "    result = tokenizer(examples['text'], padding=\"max_length\", truncation=True, max_length=512)\n",
    "    result[\"labels\"] = result[\"input_ids\"].copy()  \n",
    "    return result\n",
    "\n",
    "\n",
    "tokenized_datasets = train_dataset.map(tokenize_function, batched=True)\n",
    "\n",
    "\n",
    "training_args = TrainingArguments(\n",
    "    output_dir=r'C:\\Users\\Ilya K\\Desktop\\chat_bot_vision\\results',\n",
    "    num_train_epochs=2,\n",
    "    per_device_train_batch_size=4,\n",
    "    save_strategy=\"epoch\",  \n",
    "    eval_strategy=\"no\",  \n",
    "    save_total_limit=1,\n",
    "    logging_dir=r'C:\\Users\\Ilya K\\Desktop\\chat_bot_vision\\logs',\n",
    "    logging_steps=100,\n",
    "    load_best_model_at_end=False,\n",
    ")\n",
    "\n",
    "trainer = Trainer(\n",
    "    model=model,\n",
    "    args=training_args,\n",
    "    train_dataset=tokenized_datasets,\n",
    ")\n",
    "\n",
    "\n",
    "trainer.train()\n",
    "\n",
    "\n",
    "finetuned_model_path = r'C:\\Users\\Ilya K\\Desktop\\chat_bot_vision\\finetuned_model'\n",
    "model.save_pretrained(finetuned_model_path)\n",
    "tokenizer.save_pretrained(finetuned_model_path)"
   ]
  }
 ],
 "metadata": {
  "kernelspec": {
   "display_name": "Python 3 (ipykernel)",
   "language": "python",
   "name": "python3"
  }
 },
 "nbformat": 4,
 "nbformat_minor": 2
}
